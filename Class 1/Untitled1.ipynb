{
 "cells": [
  {
   "cell_type": "code",
   "execution_count": 133,
   "metadata": {},
   "outputs": [
    {
     "name": "stdout",
     "output_type": "stream",
     "text": [
      "False\n",
      "False\n",
      "t----esting\n",
      "testing\n"
     ]
    }
   ],
   "source": [
    "\n",
    "def ReplaceSpace(s):\n",
    "    #if #leading or trailing space\n",
    "     #   return False\n",
    "    #else:\n",
    "\n",
    "    # Check if s is a string\n",
    "    assert(type(s) == str)\n",
    "\n",
    "    # Convert to list so we can reassign values\n",
    "#    s = list(s)\n",
    "    \n",
    "    # Get length of s\n",
    "    s_length = 0\n",
    "    for char in s:\n",
    "        s_length += 1\n",
    "\n",
    "    # Check for leading spaces\n",
    "    for i in range(0, s_length):  \n",
    "        \n",
    "        if s[i] != ' ':\n",
    "            break\n",
    "        \n",
    "        if s[i] == ' ':\n",
    "            return False\n",
    "\n",
    "    # Check for trailing spaces\n",
    "\n",
    "    for i in range(0, s_length-1):\n",
    "\n",
    "        reverse_position = s_length - 1 - i\n",
    "\n",
    "        if s[reverse_position] != ' ':\n",
    "            break\n",
    "        if s[reverse_position] == ' ':\n",
    "            return False\n",
    "\n",
    "    # now that we've checked for leading/trailing spaces, we can replace the spaces with -\n",
    "    new_string = ''\n",
    "\n",
    "    for i in range(0, s_length):\n",
    "\n",
    "        if s[i] == ' ':\n",
    "            new_string = new_string + '-'\n",
    "        else:\n",
    "            new_string = new_string + s[i]\n",
    "            \n",
    "        \n",
    "    # convert back into string\n",
    " #   s = str(s)\n",
    "\n",
    "    # return modified string\n",
    "    return new_string\n",
    "\n",
    "print(ReplaceSpace('    testing'))\n",
    "print(ReplaceSpace('testing      '))\n",
    "print(ReplaceSpace('t    esting'))\n",
    "print(ReplaceSpace('testing'))"
   ]
  },
  {
   "cell_type": "code",
   "execution_count": 96,
   "metadata": {},
   "outputs": [
    {
     "data": {
      "text/plain": [
       "'Go-car-t'"
      ]
     },
     "execution_count": 96,
     "metadata": {},
     "output_type": "execute_result"
    }
   ],
   "source": [
    "ReplaceSpace(\"Go car t\")"
   ]
  },
  {
   "cell_type": "code",
   "execution_count": null,
   "metadata": {},
   "outputs": [],
   "source": []
  }
 ],
 "metadata": {
  "kernelspec": {
   "display_name": "Python 3",
   "language": "python",
   "name": "python3"
  },
  "language_info": {
   "codemirror_mode": {
    "name": "ipython",
    "version": 3
   },
   "file_extension": ".py",
   "mimetype": "text/x-python",
   "name": "python",
   "nbconvert_exporter": "python",
   "pygments_lexer": "ipython3",
   "version": "3.8.5"
  }
 },
 "nbformat": 4,
 "nbformat_minor": 4
}
