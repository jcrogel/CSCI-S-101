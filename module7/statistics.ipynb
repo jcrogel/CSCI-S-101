{
 "cells": [
  {
   "cell_type": "markdown",
   "id": "upset-point",
   "metadata": {},
   "source": [
    "# T Tests"
   ]
  },
  {
   "cell_type": "code",
   "execution_count": 38,
   "id": "binary-rescue",
   "metadata": {},
   "outputs": [],
   "source": [
    "import pandas as pd\n",
    "import numpy as np\n",
    "from scipy import stats\n",
    "import statsmodels.api as sm"
   ]
  },
  {
   "cell_type": "markdown",
   "id": "broadband-packaging",
   "metadata": {},
   "source": [
    "### Dataset\n",
    "#### Student Alcohol Consumption\n",
    "Obtained in a survey of students math and portuguese language courses in secondary school. It contains a lot of interesting social, gender and study information about students.\n",
    "\n",
    "- Dataset retrieved from: https://www.kaggle.com/uciml/student-alcohol-consumption"
   ]
  },
  {
   "cell_type": "code",
   "execution_count": 2,
   "id": "developmental-numbers",
   "metadata": {},
   "outputs": [],
   "source": [
    "students_df = pd.read_csv('./students.csv')"
   ]
  },
  {
   "cell_type": "markdown",
   "id": "formed-congo",
   "metadata": {},
   "source": [
    "In this notebook we will use `sex`, `age` and `Dalc` (Daily alcohol compsumption)"
   ]
  },
  {
   "cell_type": "code",
   "execution_count": 78,
   "id": "olive-astrology",
   "metadata": {},
   "outputs": [
    {
     "data": {
      "text/html": [
       "<div>\n",
       "<style scoped>\n",
       "    .dataframe tbody tr th:only-of-type {\n",
       "        vertical-align: middle;\n",
       "    }\n",
       "\n",
       "    .dataframe tbody tr th {\n",
       "        vertical-align: top;\n",
       "    }\n",
       "\n",
       "    .dataframe thead th {\n",
       "        text-align: right;\n",
       "    }\n",
       "</style>\n",
       "<table border=\"1\" class=\"dataframe\">\n",
       "  <thead>\n",
       "    <tr style=\"text-align: right;\">\n",
       "      <th></th>\n",
       "      <th>sex</th>\n",
       "      <th>age</th>\n",
       "      <th>Dalc</th>\n",
       "    </tr>\n",
       "  </thead>\n",
       "  <tbody>\n",
       "    <tr>\n",
       "      <th>198</th>\n",
       "      <td>F</td>\n",
       "      <td>16</td>\n",
       "      <td>1</td>\n",
       "    </tr>\n",
       "    <tr>\n",
       "      <th>438</th>\n",
       "      <td>F</td>\n",
       "      <td>17</td>\n",
       "      <td>1</td>\n",
       "    </tr>\n",
       "    <tr>\n",
       "      <th>347</th>\n",
       "      <td>F</td>\n",
       "      <td>17</td>\n",
       "      <td>1</td>\n",
       "    </tr>\n",
       "    <tr>\n",
       "      <th>439</th>\n",
       "      <td>F</td>\n",
       "      <td>15</td>\n",
       "      <td>1</td>\n",
       "    </tr>\n",
       "    <tr>\n",
       "      <th>208</th>\n",
       "      <td>M</td>\n",
       "      <td>16</td>\n",
       "      <td>1</td>\n",
       "    </tr>\n",
       "    <tr>\n",
       "      <th>588</th>\n",
       "      <td>F</td>\n",
       "      <td>17</td>\n",
       "      <td>1</td>\n",
       "    </tr>\n",
       "    <tr>\n",
       "      <th>511</th>\n",
       "      <td>F</td>\n",
       "      <td>17</td>\n",
       "      <td>1</td>\n",
       "    </tr>\n",
       "    <tr>\n",
       "      <th>166</th>\n",
       "      <td>M</td>\n",
       "      <td>19</td>\n",
       "      <td>1</td>\n",
       "    </tr>\n",
       "    <tr>\n",
       "      <th>522</th>\n",
       "      <td>F</td>\n",
       "      <td>16</td>\n",
       "      <td>1</td>\n",
       "    </tr>\n",
       "    <tr>\n",
       "      <th>5</th>\n",
       "      <td>M</td>\n",
       "      <td>16</td>\n",
       "      <td>1</td>\n",
       "    </tr>\n",
       "  </tbody>\n",
       "</table>\n",
       "</div>"
      ],
      "text/plain": [
       "    sex  age  Dalc\n",
       "198   F   16     1\n",
       "438   F   17     1\n",
       "347   F   17     1\n",
       "439   F   15     1\n",
       "208   M   16     1\n",
       "588   F   17     1\n",
       "511   F   17     1\n",
       "166   M   19     1\n",
       "522   F   16     1\n",
       "5     M   16     1"
      ]
     },
     "execution_count": 78,
     "metadata": {},
     "output_type": "execute_result"
    }
   ],
   "source": [
    "students_df[['sex', 'age', 'Dalc']].sample(10)"
   ]
  },
  {
   "cell_type": "markdown",
   "id": "pretty-findings",
   "metadata": {},
   "source": [
    "## T Tests\n",
    "\n",
    "### One sample T test\n",
    "\n",
    "Checks whether a sample mean differs from the population mean"
   ]
  },
  {
   "cell_type": "markdown",
   "id": "rapid-arnold",
   "metadata": {},
   "source": [
    "### Example\n",
    "\n",
    "Let's get a sample of Daily Alcohol `Dalc` where `age` is equal to 18"
   ]
  },
  {
   "cell_type": "code",
   "execution_count": 70,
   "id": "hawaiian-today",
   "metadata": {},
   "outputs": [],
   "source": [
    "Dalc_18 = students_df.query('age == 18').sample(30)['Dalc'].to_list()"
   ]
  },
  {
   "cell_type": "markdown",
   "id": "fleet-today",
   "metadata": {},
   "source": [
    "And the total pupulation `Dalc` mean"
   ]
  },
  {
   "cell_type": "code",
   "execution_count": 73,
   "id": "legal-escape",
   "metadata": {},
   "outputs": [
    {
     "name": "stdout",
     "output_type": "stream",
     "text": [
      "Total population Dalc mean: 1.50231124807396\n",
      "18 years old population Dalc mean: 1.4666666666666666\n"
     ]
    }
   ],
   "source": [
    "dalc_mean = students_df['Dalc'].mean()\n",
    "dalc18_mean = np.mean(Dalc_18)\n",
    "print(f'Total population Dalc mean: {dalc_mean}')\n",
    "print(f'18 years old population Dalc mean: {dalc18_mean}')"
   ]
  },
  {
   "cell_type": "markdown",
   "id": "dangerous-journey",
   "metadata": {},
   "source": [
    "- **Null Hypothesis**: 18 years old population `Dalc` is similar to the total population `Dalc`\n",
    "- If **`p-value`** < `0.05`, reject Null Hypothesis"
   ]
  },
  {
   "cell_type": "markdown",
   "id": "coupled-beatles",
   "metadata": {},
   "source": [
    "Using scipy stats funtion `ttess_1samp(a=SAMPLE, popmean=TOTAL_MEAN)`\n",
    "- Yields the t value `statistic` and the `p-value`"
   ]
  },
  {
   "cell_type": "code",
   "execution_count": 82,
   "id": "statutory-eagle",
   "metadata": {},
   "outputs": [
    {
     "data": {
      "text/plain": [
       "Ttest_1sampResult(statistic=-0.26733436055470067, pvalue=0.7911038211772043)"
      ]
     },
     "execution_count": 82,
     "metadata": {},
     "output_type": "execute_result"
    }
   ],
   "source": [
    "stats.ttest_1samp(a=Dalc_18, popmean=dalc_mean) "
   ]
  },
  {
   "cell_type": "markdown",
   "id": "subtle-trinidad",
   "metadata": {},
   "source": [
    "### Two sample test\n",
    "\n",
    "Investigates whether the means of two independent data samples differ from one another. The null hypothesis is that the means of both groups are the same"
   ]
  },
  {
   "cell_type": "markdown",
   "id": "fatal-climate",
   "metadata": {},
   "source": [
    "#### Example\n",
    "Lets get a sample of 30 values for each female `F` and male `M` Daily Alcohol consumption `Dalc`"
   ]
  },
  {
   "cell_type": "code",
   "execution_count": 85,
   "id": "adverse-sense",
   "metadata": {},
   "outputs": [],
   "source": [
    "female_Dalc = students_df[students_df.sex == 'F']['Dalc'].sample(30).to_list()\n",
    "male_Dalc = students_df[students_df.sex == 'M']['Dalc'].sample(30).to_list()\n"
   ]
  },
  {
   "cell_type": "markdown",
   "id": "modified-klein",
   "metadata": {},
   "source": [
    "- **Null Hypothesis**: female and male Dalc are similar \n",
    "- If **`p-value`** < `0.05`, reject Null Hypothesis"
   ]
  },
  {
   "cell_type": "markdown",
   "id": "eastern-skill",
   "metadata": {},
   "source": [
    "Using scipy stats funtion `ttest_ind(SAMPLE_A, SAMPLE_B)`\n",
    "- Yields the t value `statistic` and the `p-value`"
   ]
  },
  {
   "cell_type": "code",
   "execution_count": 89,
   "id": "included-rebate",
   "metadata": {},
   "outputs": [
    {
     "data": {
      "text/plain": [
       "Ttest_indResult(statistic=-1.8990043750819299, pvalue=0.0625415543098149)"
      ]
     },
     "execution_count": 89,
     "metadata": {},
     "output_type": "execute_result"
    }
   ],
   "source": [
    "stats.ttest_ind(female_Dalc, male_Dalc)"
   ]
  },
  {
   "cell_type": "markdown",
   "id": "parliamentary-donor",
   "metadata": {},
   "source": [
    "Using statsmodles stats funtion `ttest_ind(SAMPLE_A, SAMPLE_B)`\n",
    "- Yields a 3 value tuple (`t`, `p-value`, `degrees of freedom`) "
   ]
  },
  {
   "cell_type": "code",
   "execution_count": 90,
   "id": "aquatic-today",
   "metadata": {},
   "outputs": [
    {
     "data": {
      "text/plain": [
       "(-1.8990043750819294, 0.06254155430981496, 58.0)"
      ]
     },
     "execution_count": 90,
     "metadata": {},
     "output_type": "execute_result"
    }
   ],
   "source": [
    "sm.stats.ttest_ind(female_Dalc, male_Dalc)"
   ]
  }
 ],
 "metadata": {
  "kernelspec": {
   "display_name": "Python 3",
   "language": "python",
   "name": "python3"
  },
  "language_info": {
   "codemirror_mode": {
    "name": "ipython",
    "version": 3
   },
   "file_extension": ".py",
   "mimetype": "text/x-python",
   "name": "python",
   "nbconvert_exporter": "python",
   "pygments_lexer": "ipython3",
   "version": "3.8.5"
  }
 },
 "nbformat": 4,
 "nbformat_minor": 5
}
