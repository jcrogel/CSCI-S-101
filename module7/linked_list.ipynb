{
 "cells": [
  {
   "cell_type": "markdown",
   "id": "improved-survival",
   "metadata": {},
   "source": [
    "# Linked List"
   ]
  },
  {
   "cell_type": "code",
   "execution_count": 54,
   "id": "other-prison",
   "metadata": {},
   "outputs": [],
   "source": [
    "class Node:\n",
    "    def __init__(self, value=None):\n",
    "        self.value = value \n",
    "        self.nextval = None\n",
    "        \n",
    "    def __str__(self):\n",
    "        return str(self.value)\n",
    "\n",
    "class LinkedList:\n",
    "    def __init__(self):\n",
    "        self.head = None\n",
    "        \n",
    "    def insert(self, value):\n",
    "        node = Node(value)\n",
    "        node.next = self.head\n",
    "        self.head = node\n",
    "        \n",
    "    def to_list(self):\n",
    "        values = list()\n",
    "        node = self.head\n",
    "        while (node):\n",
    "            values.append(str(node))\n",
    "            node = node.next\n",
    "        return values\n",
    "    \n",
    "    def __str__(self):\n",
    "        return f'[{\",\".join(self.to_list())}]'"
   ]
  },
  {
   "cell_type": "code",
   "execution_count": 55,
   "id": "occupied-clearance",
   "metadata": {},
   "outputs": [],
   "source": [
    "linked_list = LinkedList()"
   ]
  },
  {
   "cell_type": "code",
   "execution_count": 56,
   "id": "curious-armor",
   "metadata": {},
   "outputs": [],
   "source": [
    "linked_list.insert(0)\n",
    "linked_list.insert(4)"
   ]
  },
  {
   "cell_type": "code",
   "execution_count": 57,
   "id": "irish-klein",
   "metadata": {},
   "outputs": [
    {
     "name": "stdout",
     "output_type": "stream",
     "text": [
      "[4,0]\n"
     ]
    }
   ],
   "source": [
    "print(linked_list)"
   ]
  },
  {
   "cell_type": "markdown",
   "id": "limiting-correspondence",
   "metadata": {},
   "source": [
    "### Exercise\n",
    "\n",
    "Implement append method (Insert at the end of the linked list)\n"
   ]
  },
  {
   "cell_type": "code",
   "execution_count": 60,
   "id": "surprising-combining",
   "metadata": {},
   "outputs": [],
   "source": [
    "class LinkedList:\n",
    "    \n",
    "    #def append(self, value):\n",
    "        # Inserts at the end\n",
    "    \n",
    "    def __init__(self):\n",
    "        self.head = None\n",
    "        \n",
    "    def insert(self, value):\n",
    "        node = Node(value)\n",
    "        node.next = self.head\n",
    "        self.head = node\n",
    "        \n",
    "    def to_list(self):\n",
    "        values = list()\n",
    "        node = self.head\n",
    "        while (node):\n",
    "            values.append(str(node))\n",
    "            node = node.next\n",
    "        return values\n",
    "    \n",
    "    def __str__(self):\n",
    "        return f'[{\",\".join(self.to_list())}]'"
   ]
  },
  {
   "cell_type": "code",
   "execution_count": null,
   "id": "ranging-digest",
   "metadata": {},
   "outputs": [],
   "source": []
  }
 ],
 "metadata": {
  "kernelspec": {
   "display_name": "Python 3",
   "language": "python",
   "name": "python3"
  },
  "language_info": {
   "codemirror_mode": {
    "name": "ipython",
    "version": 3
   },
   "file_extension": ".py",
   "mimetype": "text/x-python",
   "name": "python",
   "nbconvert_exporter": "python",
   "pygments_lexer": "ipython3",
   "version": "3.8.5"
  }
 },
 "nbformat": 4,
 "nbformat_minor": 5
}
