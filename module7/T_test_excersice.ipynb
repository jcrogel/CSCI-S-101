{
 "cells": [
  {
   "cell_type": "code",
   "execution_count": 1,
   "id": "sublime-weekly",
   "metadata": {},
   "outputs": [],
   "source": [
    "import pandas as pd\n",
    "import numpy as np\n",
    "from scipy import stats\n",
    "import statsmodels.api as sm"
   ]
  },
  {
   "cell_type": "markdown",
   "id": "advanced-beijing",
   "metadata": {},
   "source": [
    "### Dataset\n",
    "#### Patient's blood Pressure\n",
    "\n",
    "Sample of patients with a registry of blood pressure before and after an intervention\n",
    "\n",
    "- Dataset retrieved from: https://github.com/Opensourcefordatascience/Data-sets/blob/master/blood_pressure.csv\n",
    "        \n",
    "- Columns\n",
    "    - `patient`: id \n",
    "    - `sex`: (Female or Male)\n",
    "    - `agegrp`: Age group \n",
    "    - `bp_before` : blood pressure before intervention\n",
    "    - `bp_after`: blood pressure after intervention\n",
    "        "
   ]
  },
  {
   "cell_type": "code",
   "execution_count": 6,
   "id": "concrete-bangladesh",
   "metadata": {},
   "outputs": [
    {
     "data": {
      "text/html": [
       "<div>\n",
       "<style scoped>\n",
       "    .dataframe tbody tr th:only-of-type {\n",
       "        vertical-align: middle;\n",
       "    }\n",
       "\n",
       "    .dataframe tbody tr th {\n",
       "        vertical-align: top;\n",
       "    }\n",
       "\n",
       "    .dataframe thead th {\n",
       "        text-align: right;\n",
       "    }\n",
       "</style>\n",
       "<table border=\"1\" class=\"dataframe\">\n",
       "  <thead>\n",
       "    <tr style=\"text-align: right;\">\n",
       "      <th></th>\n",
       "      <th>patient</th>\n",
       "      <th>sex</th>\n",
       "      <th>agegrp</th>\n",
       "      <th>bp_before</th>\n",
       "      <th>bp_after</th>\n",
       "    </tr>\n",
       "  </thead>\n",
       "  <tbody>\n",
       "    <tr>\n",
       "      <th>9</th>\n",
       "      <td>10</td>\n",
       "      <td>Male</td>\n",
       "      <td>30-45</td>\n",
       "      <td>158</td>\n",
       "      <td>125</td>\n",
       "    </tr>\n",
       "    <tr>\n",
       "      <th>105</th>\n",
       "      <td>106</td>\n",
       "      <td>Female</td>\n",
       "      <td>60+</td>\n",
       "      <td>170</td>\n",
       "      <td>143</td>\n",
       "    </tr>\n",
       "    <tr>\n",
       "      <th>87</th>\n",
       "      <td>88</td>\n",
       "      <td>Female</td>\n",
       "      <td>46-59</td>\n",
       "      <td>157</td>\n",
       "      <td>136</td>\n",
       "    </tr>\n",
       "    <tr>\n",
       "      <th>85</th>\n",
       "      <td>86</td>\n",
       "      <td>Female</td>\n",
       "      <td>46-59</td>\n",
       "      <td>154</td>\n",
       "      <td>146</td>\n",
       "    </tr>\n",
       "    <tr>\n",
       "      <th>18</th>\n",
       "      <td>19</td>\n",
       "      <td>Male</td>\n",
       "      <td>30-45</td>\n",
       "      <td>143</td>\n",
       "      <td>136</td>\n",
       "    </tr>\n",
       "  </tbody>\n",
       "</table>\n",
       "</div>"
      ],
      "text/plain": [
       "     patient     sex agegrp  bp_before  bp_after\n",
       "9         10    Male  30-45        158       125\n",
       "105      106  Female    60+        170       143\n",
       "87        88  Female  46-59        157       136\n",
       "85        86  Female  46-59        154       146\n",
       "18        19    Male  30-45        143       136"
      ]
     },
     "execution_count": 6,
     "metadata": {},
     "output_type": "execute_result"
    }
   ],
   "source": [
    "bp_df = pd.read_csv('./blood_pressure.csv')\n",
    "bp_df.sample(5)"
   ]
  },
  {
   "cell_type": "markdown",
   "id": "familiar-warrant",
   "metadata": {},
   "source": [
    "### Excersice "
   ]
  },
  {
   "cell_type": "markdown",
   "id": "complex-railway",
   "metadata": {},
   "source": [
    "#### Two sample t test\n",
    "\n",
    "Using `stats.ttest_ind()` calculate the t test for blood pressure before intervention `bp_before` for\n",
    "Male and Female groups\n",
    "\n",
    "Interpret the results "
   ]
  },
  {
   "cell_type": "code",
   "execution_count": 10,
   "id": "bearing-effort",
   "metadata": {},
   "outputs": [],
   "source": [
    "# male_bp_before =\n",
    "# female_bp_before =\n",
    "# stats.ttest_ind()"
   ]
  },
  {
   "cell_type": "markdown",
   "id": "twelve-gender",
   "metadata": {},
   "source": [
    "#### Paired t test\n",
    "\n",
    "Using `stats.ttest_rel()` calculate the paired t test for blood pressure before and after \n",
    "\n",
    "Interpret the results "
   ]
  },
  {
   "cell_type": "code",
   "execution_count": 11,
   "id": "hearing-rapid",
   "metadata": {},
   "outputs": [],
   "source": [
    "# bp_before =\n",
    "# bp_after = \n",
    "# stats.ttest_rel()"
   ]
  }
 ],
 "metadata": {
  "kernelspec": {
   "display_name": "Python 3",
   "language": "python",
   "name": "python3"
  },
  "language_info": {
   "codemirror_mode": {
    "name": "ipython",
    "version": 3
   },
   "file_extension": ".py",
   "mimetype": "text/x-python",
   "name": "python",
   "nbconvert_exporter": "python",
   "pygments_lexer": "ipython3",
   "version": "3.8.5"
  }
 },
 "nbformat": 4,
 "nbformat_minor": 5
}
