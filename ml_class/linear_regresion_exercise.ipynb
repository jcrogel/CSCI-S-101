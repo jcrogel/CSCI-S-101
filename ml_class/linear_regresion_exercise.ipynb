{
 "cells": [
  {
   "cell_type": "code",
   "execution_count": 17,
   "id": "existing-scratch",
   "metadata": {},
   "outputs": [],
   "source": [
    "import pandas as pd\n",
    "import seaborn as sns\n",
    "import statsmodels.api as sm\n",
    "from statsmodels.formula.api import ols"
   ]
  },
  {
   "cell_type": "markdown",
   "id": "answering-possibility",
   "metadata": {},
   "source": [
    "### Dataset\n",
    "#### Real estate price\n",
    "- Dataset retrieved from: https://www.kaggle.com/quantbruce/real-estate-price-prediction\n",
    "\n",
    "- Important Columns\n",
    "    - house_age\n",
    "    - distance_to_nearest_MRT_station\n",
    "    - number_of_convenience_stores\n",
    "    - #### unit_house_price (Dependant variable)"
   ]
  },
  {
   "cell_type": "code",
   "execution_count": 24,
   "id": "minute-might",
   "metadata": {},
   "outputs": [
    {
     "data": {
      "text/html": [
       "<div>\n",
       "<style scoped>\n",
       "    .dataframe tbody tr th:only-of-type {\n",
       "        vertical-align: middle;\n",
       "    }\n",
       "\n",
       "    .dataframe tbody tr th {\n",
       "        vertical-align: top;\n",
       "    }\n",
       "\n",
       "    .dataframe thead th {\n",
       "        text-align: right;\n",
       "    }\n",
       "</style>\n",
       "<table border=\"1\" class=\"dataframe\">\n",
       "  <thead>\n",
       "    <tr style=\"text-align: right;\">\n",
       "      <th></th>\n",
       "      <th>house_age</th>\n",
       "      <th>distance_to_nearest_MRT_station</th>\n",
       "      <th>number_of_convenience_stores</th>\n",
       "      <th>unit_house_price</th>\n",
       "    </tr>\n",
       "  </thead>\n",
       "  <tbody>\n",
       "    <tr>\n",
       "      <th>0</th>\n",
       "      <td>32.0</td>\n",
       "      <td>84.87882</td>\n",
       "      <td>10</td>\n",
       "      <td>37.9</td>\n",
       "    </tr>\n",
       "    <tr>\n",
       "      <th>1</th>\n",
       "      <td>19.5</td>\n",
       "      <td>306.59470</td>\n",
       "      <td>9</td>\n",
       "      <td>42.2</td>\n",
       "    </tr>\n",
       "    <tr>\n",
       "      <th>2</th>\n",
       "      <td>13.3</td>\n",
       "      <td>561.98450</td>\n",
       "      <td>5</td>\n",
       "      <td>47.3</td>\n",
       "    </tr>\n",
       "    <tr>\n",
       "      <th>3</th>\n",
       "      <td>13.3</td>\n",
       "      <td>561.98450</td>\n",
       "      <td>5</td>\n",
       "      <td>54.8</td>\n",
       "    </tr>\n",
       "    <tr>\n",
       "      <th>4</th>\n",
       "      <td>5.0</td>\n",
       "      <td>390.56840</td>\n",
       "      <td>5</td>\n",
       "      <td>43.1</td>\n",
       "    </tr>\n",
       "  </tbody>\n",
       "</table>\n",
       "</div>"
      ],
      "text/plain": [
       "   house_age  distance_to_nearest_MRT_station  number_of_convenience_stores  \\\n",
       "0       32.0                         84.87882                            10   \n",
       "1       19.5                        306.59470                             9   \n",
       "2       13.3                        561.98450                             5   \n",
       "3       13.3                        561.98450                             5   \n",
       "4        5.0                        390.56840                             5   \n",
       "\n",
       "   unit_house_price  \n",
       "0              37.9  \n",
       "1              42.2  \n",
       "2              47.3  \n",
       "3              54.8  \n",
       "4              43.1  "
      ]
     },
     "execution_count": 24,
     "metadata": {},
     "output_type": "execute_result"
    }
   ],
   "source": [
    "real_state_df = pd.read_csv('./real_state.csv')\n",
    "## Selecting just the important variables for this exercise\n",
    "real_state_df = real_state_df[['house_age',\n",
    "               'distance_to_nearest_MRT_station',\n",
    "               'number_of_convenience_stores',\n",
    "               'unit_house_price']]\n",
    "real_state_df.head()"
   ]
  },
  {
   "cell_type": "markdown",
   "id": "verified-advocacy",
   "metadata": {},
   "source": [
    "### Exercise"
   ]
  },
  {
   "cell_type": "markdown",
   "id": "guilty-smart",
   "metadata": {},
   "source": [
    "Which variable do you think is the most important to determine the house price?"
   ]
  },
  {
   "cell_type": "code",
   "execution_count": null,
   "id": "guilty-truck",
   "metadata": {},
   "outputs": [],
   "source": [
    "# "
   ]
  },
  {
   "cell_type": "markdown",
   "id": "minus-allergy",
   "metadata": {},
   "source": [
    "Use seaborn `lmplot()` to plot the relation of the 3 independant variables with the `unit_house_price`\n",
    "\n",
    "See if there is any correlated variable"
   ]
  },
  {
   "cell_type": "code",
   "execution_count": 25,
   "id": "copyrighted-consequence",
   "metadata": {},
   "outputs": [],
   "source": [
    "# house_age vs unit_house_price\n"
   ]
  },
  {
   "cell_type": "code",
   "execution_count": 26,
   "id": "specific-april",
   "metadata": {},
   "outputs": [],
   "source": [
    "# distance_to_nearest_MRT_station vs unit_house_price\n"
   ]
  },
  {
   "cell_type": "code",
   "execution_count": 27,
   "id": "greenhouse-license",
   "metadata": {},
   "outputs": [],
   "source": [
    "# number_of_convenience_stores vs unit_house_price\n"
   ]
  },
  {
   "cell_type": "markdown",
   "id": "regulation-harvey",
   "metadata": {},
   "source": [
    "Use statsmodels `ols()` to obtain the `r squared` values and the `F statistcs`\n",
    "\n",
    "What can you conclude from this analysis?"
   ]
  },
  {
   "cell_type": "code",
   "execution_count": null,
   "id": "critical-particle",
   "metadata": {},
   "outputs": [],
   "source": [
    "# house_age vs unit_house_price"
   ]
  },
  {
   "cell_type": "code",
   "execution_count": null,
   "id": "appreciated-indianapolis",
   "metadata": {},
   "outputs": [],
   "source": [
    "# distance_to_nearest_MRT_station vs unit_house_price"
   ]
  },
  {
   "cell_type": "code",
   "execution_count": null,
   "id": "secure-heather",
   "metadata": {},
   "outputs": [],
   "source": [
    "# number_of_convenience_stores vs unit_house_price"
   ]
  },
  {
   "cell_type": "code",
   "execution_count": null,
   "id": "integral-carolina",
   "metadata": {},
   "outputs": [],
   "source": []
  }
 ],
 "metadata": {
  "kernelspec": {
   "display_name": "Python 3",
   "language": "python",
   "name": "python3"
  },
  "language_info": {
   "codemirror_mode": {
    "name": "ipython",
    "version": 3
   },
   "file_extension": ".py",
   "mimetype": "text/x-python",
   "name": "python",
   "nbconvert_exporter": "python",
   "pygments_lexer": "ipython3",
   "version": "3.8.5"
  }
 },
 "nbformat": 4,
 "nbformat_minor": 5
}
