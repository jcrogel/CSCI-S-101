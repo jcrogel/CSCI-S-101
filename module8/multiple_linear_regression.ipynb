{
 "cells": [
  {
   "cell_type": "markdown",
   "id": "worse-birmingham",
   "metadata": {},
   "source": [
    "# Multiple Linear Regresion"
   ]
  },
  {
   "cell_type": "markdown",
   "id": "olive-switzerland",
   "metadata": {},
   "source": [
    "# Dataset\n",
    "\n",
    "### California Housing Prices\n",
    "\n",
    "Contains the houses found in a given California district and some summary stats about them based on the 1990 census data\n",
    "\n",
    "### Columns\n",
    "\n",
    "1. **longitude**: A measure of how far west a house is; a higher value is farther west\n",
    "2. **latitude**: A measure of how far north a house is; a higher value is farther north\n",
    "3. **housing_median_age**: Median age of a house within a block; a lower number is a newer building\n",
    "4. **total_rooms**: Total number of rooms within a block\n",
    "5. **total_bedrooms**: Total number of bedrooms within a block\n",
    "6. **population**: Total number of people residing within a block\n",
    "7. **households**: Total number of households, a group of people residing within a home unit, for a block\n",
    "8. **median_income**: Median income for households within a block of houses (measured in tens of thousands of US Dollars)\n",
    "9. **median_house_value**: Median house value for households within a block (measured in US Dollars)\n",
    "10. **ocean_proximity**: Location of the house w.r.t ocean/sea"
   ]
  },
  {
   "cell_type": "markdown",
   "id": "global-steal",
   "metadata": {},
   "source": [
    "---"
   ]
  },
  {
   "cell_type": "markdown",
   "id": "dangerous-programming",
   "metadata": {},
   "source": [
    "## Reading the dataset"
   ]
  },
  {
   "cell_type": "code",
   "execution_count": 12,
   "id": "present-justice",
   "metadata": {},
   "outputs": [],
   "source": [
    "import pandas as pd"
   ]
  },
  {
   "cell_type": "code",
   "execution_count": 13,
   "id": "received-hudson",
   "metadata": {},
   "outputs": [
    {
     "data": {
      "text/html": [
       "<div>\n",
       "<style scoped>\n",
       "    .dataframe tbody tr th:only-of-type {\n",
       "        vertical-align: middle;\n",
       "    }\n",
       "\n",
       "    .dataframe tbody tr th {\n",
       "        vertical-align: top;\n",
       "    }\n",
       "\n",
       "    .dataframe thead th {\n",
       "        text-align: right;\n",
       "    }\n",
       "</style>\n",
       "<table border=\"1\" class=\"dataframe\">\n",
       "  <thead>\n",
       "    <tr style=\"text-align: right;\">\n",
       "      <th></th>\n",
       "      <th>longitude</th>\n",
       "      <th>latitude</th>\n",
       "      <th>housing_median_age</th>\n",
       "      <th>total_rooms</th>\n",
       "      <th>total_bedrooms</th>\n",
       "      <th>population</th>\n",
       "      <th>households</th>\n",
       "      <th>median_income</th>\n",
       "      <th>median_house_value</th>\n",
       "      <th>ocean_proximity</th>\n",
       "    </tr>\n",
       "  </thead>\n",
       "  <tbody>\n",
       "    <tr>\n",
       "      <th>0</th>\n",
       "      <td>-122.23</td>\n",
       "      <td>37.88</td>\n",
       "      <td>41.0</td>\n",
       "      <td>880.0</td>\n",
       "      <td>129.0</td>\n",
       "      <td>322.0</td>\n",
       "      <td>126.0</td>\n",
       "      <td>8.3252</td>\n",
       "      <td>452600.0</td>\n",
       "      <td>NEAR BAY</td>\n",
       "    </tr>\n",
       "    <tr>\n",
       "      <th>1</th>\n",
       "      <td>-122.22</td>\n",
       "      <td>37.86</td>\n",
       "      <td>21.0</td>\n",
       "      <td>7099.0</td>\n",
       "      <td>1106.0</td>\n",
       "      <td>2401.0</td>\n",
       "      <td>1138.0</td>\n",
       "      <td>8.3014</td>\n",
       "      <td>358500.0</td>\n",
       "      <td>NEAR BAY</td>\n",
       "    </tr>\n",
       "    <tr>\n",
       "      <th>2</th>\n",
       "      <td>-122.24</td>\n",
       "      <td>37.85</td>\n",
       "      <td>52.0</td>\n",
       "      <td>1467.0</td>\n",
       "      <td>190.0</td>\n",
       "      <td>496.0</td>\n",
       "      <td>177.0</td>\n",
       "      <td>7.2574</td>\n",
       "      <td>352100.0</td>\n",
       "      <td>NEAR BAY</td>\n",
       "    </tr>\n",
       "    <tr>\n",
       "      <th>3</th>\n",
       "      <td>-122.25</td>\n",
       "      <td>37.85</td>\n",
       "      <td>52.0</td>\n",
       "      <td>1274.0</td>\n",
       "      <td>235.0</td>\n",
       "      <td>558.0</td>\n",
       "      <td>219.0</td>\n",
       "      <td>5.6431</td>\n",
       "      <td>341300.0</td>\n",
       "      <td>NEAR BAY</td>\n",
       "    </tr>\n",
       "    <tr>\n",
       "      <th>4</th>\n",
       "      <td>-122.25</td>\n",
       "      <td>37.85</td>\n",
       "      <td>52.0</td>\n",
       "      <td>1627.0</td>\n",
       "      <td>280.0</td>\n",
       "      <td>565.0</td>\n",
       "      <td>259.0</td>\n",
       "      <td>3.8462</td>\n",
       "      <td>342200.0</td>\n",
       "      <td>NEAR BAY</td>\n",
       "    </tr>\n",
       "  </tbody>\n",
       "</table>\n",
       "</div>"
      ],
      "text/plain": [
       "   longitude  latitude  housing_median_age  total_rooms  total_bedrooms  \\\n",
       "0    -122.23     37.88                41.0        880.0           129.0   \n",
       "1    -122.22     37.86                21.0       7099.0          1106.0   \n",
       "2    -122.24     37.85                52.0       1467.0           190.0   \n",
       "3    -122.25     37.85                52.0       1274.0           235.0   \n",
       "4    -122.25     37.85                52.0       1627.0           280.0   \n",
       "\n",
       "   population  households  median_income  median_house_value ocean_proximity  \n",
       "0       322.0       126.0         8.3252            452600.0        NEAR BAY  \n",
       "1      2401.0      1138.0         8.3014            358500.0        NEAR BAY  \n",
       "2       496.0       177.0         7.2574            352100.0        NEAR BAY  \n",
       "3       558.0       219.0         5.6431            341300.0        NEAR BAY  \n",
       "4       565.0       259.0         3.8462            342200.0        NEAR BAY  "
      ]
     },
     "execution_count": 13,
     "metadata": {},
     "output_type": "execute_result"
    }
   ],
   "source": [
    "housing_df = pd.read_csv('./housing.csv')\n",
    "housing_df.head()"
   ]
  },
  {
   "cell_type": "code",
   "execution_count": 20,
   "id": "physical-antarctica",
   "metadata": {},
   "outputs": [
    {
     "data": {
      "text/plain": [
       "longitude             float64\n",
       "latitude              float64\n",
       "housing_median_age    float64\n",
       "total_rooms           float64\n",
       "total_bedrooms        float64\n",
       "population            float64\n",
       "households            float64\n",
       "median_income         float64\n",
       "median_house_value    float64\n",
       "ocean_proximity        object\n",
       "dtype: object"
      ]
     },
     "execution_count": 20,
     "metadata": {},
     "output_type": "execute_result"
    }
   ],
   "source": [
    "housing_df.dtypes"
   ]
  },
  {
   "cell_type": "markdown",
   "id": "latest-fountain",
   "metadata": {},
   "source": [
    "**Notice `ocean_proximity` is a *string* (object) value, we will exclude it from the analysis**\n",
    "\n",
    "---"
   ]
  },
  {
   "cell_type": "markdown",
   "id": "coordinate-background",
   "metadata": {},
   "source": [
    "## Aplying statsmodels OLS\n",
    "\n",
    "Let's apply the linear regresion function `ols()` from `statsmodels`"
   ]
  },
  {
   "cell_type": "code",
   "execution_count": 14,
   "id": "human-disposal",
   "metadata": {},
   "outputs": [],
   "source": [
    "from statsmodels.formula.api import ols"
   ]
  },
  {
   "cell_type": "code",
   "execution_count": 22,
   "id": "systematic-section",
   "metadata": {},
   "outputs": [],
   "source": [
    "# Exclude the ocean_proximity since it's not a numeric value\n",
    "formula = f\"\"\"median_house_value ~ \n",
    "                                    longitude +\n",
    "                                    latitude +\n",
    "                                    housing_median_age +\n",
    "                                    total_rooms +\n",
    "                                    total_bedrooms +\n",
    "                                    population +\n",
    "                                    households +\n",
    "                                    median_income\"\"\"\n",
    "results = ols(formula, data=housing_df).fit()"
   ]
  },
  {
   "cell_type": "markdown",
   "id": "handy-retreat",
   "metadata": {},
   "source": [
    "Print the summary"
   ]
  },
  {
   "cell_type": "code",
   "execution_count": 23,
   "id": "specific-texture",
   "metadata": {},
   "outputs": [
    {
     "data": {
      "text/html": [
       "<table class=\"simpletable\">\n",
       "<caption>OLS Regression Results</caption>\n",
       "<tr>\n",
       "  <th>Dep. Variable:</th>    <td>median_house_value</td> <th>  R-squared:         </th>  <td>   0.637</td>  \n",
       "</tr>\n",
       "<tr>\n",
       "  <th>Model:</th>                    <td>OLS</td>        <th>  Adj. R-squared:    </th>  <td>   0.637</td>  \n",
       "</tr>\n",
       "<tr>\n",
       "  <th>Method:</th>              <td>Least Squares</td>   <th>  F-statistic:       </th>  <td>   4478.</td>  \n",
       "</tr>\n",
       "<tr>\n",
       "  <th>Date:</th>              <td>Wed, 28 Jul 2021</td>  <th>  Prob (F-statistic):</th>   <td>  0.00</td>   \n",
       "</tr>\n",
       "<tr>\n",
       "  <th>Time:</th>                  <td>14:24:28</td>      <th>  Log-Likelihood:    </th> <td>-2.5682e+05</td>\n",
       "</tr>\n",
       "<tr>\n",
       "  <th>No. Observations:</th>       <td> 20433</td>       <th>  AIC:               </th>  <td>5.137e+05</td> \n",
       "</tr>\n",
       "<tr>\n",
       "  <th>Df Residuals:</th>           <td> 20424</td>       <th>  BIC:               </th>  <td>5.137e+05</td> \n",
       "</tr>\n",
       "<tr>\n",
       "  <th>Df Model:</th>               <td>     8</td>       <th>                     </th>      <td> </td>     \n",
       "</tr>\n",
       "<tr>\n",
       "  <th>Covariance Type:</th>       <td>nonrobust</td>     <th>                     </th>      <td> </td>     \n",
       "</tr>\n",
       "</table>\n",
       "<table class=\"simpletable\">\n",
       "<tr>\n",
       "           <td></td>             <th>coef</th>     <th>std err</th>      <th>t</th>      <th>P>|t|</th>  <th>[0.025</th>    <th>0.975]</th>  \n",
       "</tr>\n",
       "<tr>\n",
       "  <th>Intercept</th>          <td>-3.585e+06</td> <td> 6.29e+04</td> <td>  -57.001</td> <td> 0.000</td> <td>-3.71e+06</td> <td>-3.46e+06</td>\n",
       "</tr>\n",
       "<tr>\n",
       "  <th>longitude</th>          <td>-4.273e+04</td> <td>  717.087</td> <td>  -59.588</td> <td> 0.000</td> <td>-4.41e+04</td> <td>-4.13e+04</td>\n",
       "</tr>\n",
       "<tr>\n",
       "  <th>latitude</th>           <td>-4.251e+04</td> <td>  676.952</td> <td>  -62.796</td> <td> 0.000</td> <td>-4.38e+04</td> <td>-4.12e+04</td>\n",
       "</tr>\n",
       "<tr>\n",
       "  <th>housing_median_age</th> <td> 1157.9003</td> <td>   43.389</td> <td>   26.687</td> <td> 0.000</td> <td> 1072.855</td> <td> 1242.945</td>\n",
       "</tr>\n",
       "<tr>\n",
       "  <th>total_rooms</th>        <td>   -8.2497</td> <td>    0.794</td> <td>  -10.387</td> <td> 0.000</td> <td>   -9.807</td> <td>   -6.693</td>\n",
       "</tr>\n",
       "<tr>\n",
       "  <th>total_bedrooms</th>     <td>  113.8207</td> <td>    6.931</td> <td>   16.423</td> <td> 0.000</td> <td>  100.236</td> <td>  127.405</td>\n",
       "</tr>\n",
       "<tr>\n",
       "  <th>population</th>         <td>  -38.3856</td> <td>    1.084</td> <td>  -35.407</td> <td> 0.000</td> <td>  -40.511</td> <td>  -36.261</td>\n",
       "</tr>\n",
       "<tr>\n",
       "  <th>households</th>         <td>   47.7014</td> <td>    7.547</td> <td>    6.321</td> <td> 0.000</td> <td>   32.909</td> <td>   62.493</td>\n",
       "</tr>\n",
       "<tr>\n",
       "  <th>median_income</th>      <td>  4.03e+04</td> <td>  337.207</td> <td>  119.504</td> <td> 0.000</td> <td> 3.96e+04</td> <td>  4.1e+04</td>\n",
       "</tr>\n",
       "</table>\n",
       "<table class=\"simpletable\">\n",
       "<tr>\n",
       "  <th>Omnibus:</th>       <td>4898.534</td> <th>  Durbin-Watson:     </th> <td>   0.975</td> \n",
       "</tr>\n",
       "<tr>\n",
       "  <th>Prob(Omnibus):</th>  <td> 0.000</td>  <th>  Jarque-Bera (JB):  </th> <td>18260.733</td>\n",
       "</tr>\n",
       "<tr>\n",
       "  <th>Skew:</th>           <td> 1.166</td>  <th>  Prob(JB):          </th> <td>    0.00</td> \n",
       "</tr>\n",
       "<tr>\n",
       "  <th>Kurtosis:</th>       <td> 7.002</td>  <th>  Cond. No.          </th> <td>5.10e+05</td> \n",
       "</tr>\n",
       "</table><br/><br/>Notes:<br/>[1] Standard Errors assume that the covariance matrix of the errors is correctly specified.<br/>[2] The condition number is large, 5.1e+05. This might indicate that there are<br/>strong multicollinearity or other numerical problems."
      ],
      "text/plain": [
       "<class 'statsmodels.iolib.summary.Summary'>\n",
       "\"\"\"\n",
       "                            OLS Regression Results                            \n",
       "==============================================================================\n",
       "Dep. Variable:     median_house_value   R-squared:                       0.637\n",
       "Model:                            OLS   Adj. R-squared:                  0.637\n",
       "Method:                 Least Squares   F-statistic:                     4478.\n",
       "Date:                Wed, 28 Jul 2021   Prob (F-statistic):               0.00\n",
       "Time:                        14:24:28   Log-Likelihood:            -2.5682e+05\n",
       "No. Observations:               20433   AIC:                         5.137e+05\n",
       "Df Residuals:                   20424   BIC:                         5.137e+05\n",
       "Df Model:                           8                                         \n",
       "Covariance Type:            nonrobust                                         \n",
       "======================================================================================\n",
       "                         coef    std err          t      P>|t|      [0.025      0.975]\n",
       "--------------------------------------------------------------------------------------\n",
       "Intercept          -3.585e+06   6.29e+04    -57.001      0.000   -3.71e+06   -3.46e+06\n",
       "longitude          -4.273e+04    717.087    -59.588      0.000   -4.41e+04   -4.13e+04\n",
       "latitude           -4.251e+04    676.952    -62.796      0.000   -4.38e+04   -4.12e+04\n",
       "housing_median_age  1157.9003     43.389     26.687      0.000    1072.855    1242.945\n",
       "total_rooms           -8.2497      0.794    -10.387      0.000      -9.807      -6.693\n",
       "total_bedrooms       113.8207      6.931     16.423      0.000     100.236     127.405\n",
       "population           -38.3856      1.084    -35.407      0.000     -40.511     -36.261\n",
       "households            47.7014      7.547      6.321      0.000      32.909      62.493\n",
       "median_income        4.03e+04    337.207    119.504      0.000    3.96e+04     4.1e+04\n",
       "==============================================================================\n",
       "Omnibus:                     4898.534   Durbin-Watson:                   0.975\n",
       "Prob(Omnibus):                  0.000   Jarque-Bera (JB):            18260.733\n",
       "Skew:                           1.166   Prob(JB):                         0.00\n",
       "Kurtosis:                       7.002   Cond. No.                     5.10e+05\n",
       "==============================================================================\n",
       "\n",
       "Notes:\n",
       "[1] Standard Errors assume that the covariance matrix of the errors is correctly specified.\n",
       "[2] The condition number is large, 5.1e+05. This might indicate that there are\n",
       "strong multicollinearity or other numerical problems.\n",
       "\"\"\""
      ]
     },
     "execution_count": 23,
     "metadata": {},
     "output_type": "execute_result"
    }
   ],
   "source": [
    "results.summary()"
   ]
  },
  {
   "cell_type": "markdown",
   "id": "structured-mongolia",
   "metadata": {},
   "source": [
    "### Results"
   ]
  },
  {
   "cell_type": "code",
   "execution_count": 28,
   "id": "crucial-fifteen",
   "metadata": {},
   "outputs": [
    {
     "data": {
      "text/plain": [
       "0.6369116857335635"
      ]
     },
     "execution_count": 28,
     "metadata": {},
     "output_type": "execute_result"
    }
   ],
   "source": [
    "results.rsquared"
   ]
  },
  {
   "cell_type": "markdown",
   "id": "illegal-monster",
   "metadata": {},
   "source": [
    "- **R-squared:**\t0.637\n",
    "    - 63.7 % of the Median house value is explained by the 8 independant values."
   ]
  },
  {
   "cell_type": "markdown",
   "id": "passing-torture",
   "metadata": {},
   "source": [
    "Print the params (coeficients) of the variables"
   ]
  },
  {
   "cell_type": "code",
   "execution_count": 31,
   "id": "behavioral-facing",
   "metadata": {},
   "outputs": [
    {
     "data": {
      "text/plain": [
       "Intercept            -3.585396e+06\n",
       "longitude            -4.273012e+04\n",
       "latitude             -4.250974e+04\n",
       "housing_median_age    1.157900e+03\n",
       "total_rooms          -8.249725e+00\n",
       "total_bedrooms        1.138207e+02\n",
       "population           -3.838558e+01\n",
       "households            4.770135e+01\n",
       "median_income         4.029752e+04\n",
       "dtype: float64"
      ]
     },
     "execution_count": 31,
     "metadata": {},
     "output_type": "execute_result"
    }
   ],
   "source": [
    "results.params"
   ]
  },
  {
   "cell_type": "markdown",
   "id": "demanding-optics",
   "metadata": {},
   "source": [
    "Print the pvalues of each independant variable "
   ]
  },
  {
   "cell_type": "code",
   "execution_count": 30,
   "id": "planned-watershed",
   "metadata": {},
   "outputs": [
    {
     "data": {
      "text/plain": [
       "Intercept              0.000000e+00\n",
       "longitude              0.000000e+00\n",
       "latitude               0.000000e+00\n",
       "housing_median_age    2.946266e-154\n",
       "total_rooms            3.294848e-25\n",
       "total_bedrooms         3.188906e-60\n",
       "population            1.459679e-266\n",
       "households             2.653505e-10\n",
       "median_income          0.000000e+00\n",
       "dtype: float64"
      ]
     },
     "execution_count": 30,
     "metadata": {},
     "output_type": "execute_result"
    }
   ],
   "source": [
    "results.pvalues"
   ]
  },
  {
   "cell_type": "markdown",
   "id": "metallic-vacation",
   "metadata": {},
   "source": [
    "---"
   ]
  },
  {
   "cell_type": "markdown",
   "id": "encouraging-theology",
   "metadata": {},
   "source": [
    "## Sklearn LinearRegresion\n",
    "Now we will use the `sklearn` `LinearRegression` to create a model and make predictions"
   ]
  },
  {
   "cell_type": "code",
   "execution_count": 32,
   "id": "blocked-template",
   "metadata": {},
   "outputs": [],
   "source": [
    "from sklearn.model_selection import train_test_split\n",
    "from sklearn.linear_model import LinearRegression\n"
   ]
  },
  {
   "cell_type": "markdown",
   "id": "employed-muslim",
   "metadata": {},
   "source": [
    "Drop the not needed values. The dependant variable `median_house_value` and the non numerical values `ocean proximity`"
   ]
  },
  {
   "cell_type": "code",
   "execution_count": 34,
   "id": "defensive-imperial",
   "metadata": {},
   "outputs": [],
   "source": [
    "x = housing_df.drop(['median_house_value', 'ocean_proximity'], axis=1)"
   ]
  },
  {
   "cell_type": "markdown",
   "id": "painted-scheme",
   "metadata": {},
   "source": [
    "Let's make sure there is no NA value, in this case we will fill with 0"
   ]
  },
  {
   "cell_type": "code",
   "execution_count": 35,
   "id": "alive-winter",
   "metadata": {},
   "outputs": [],
   "source": [
    "x = x.fillna(0)"
   ]
  },
  {
   "cell_type": "markdown",
   "id": "eligible-warrant",
   "metadata": {},
   "source": [
    "Get our `y` (depentant variable)"
   ]
  },
  {
   "cell_type": "code",
   "execution_count": 36,
   "id": "numerous-diagnosis",
   "metadata": {},
   "outputs": [],
   "source": [
    "y = housing_df['median_house_value']"
   ]
  },
  {
   "cell_type": "markdown",
   "id": "unauthorized-fault",
   "metadata": {},
   "source": [
    "Split the values into tran and test dataset, using `train_test_split`, with a `test_size` of 20%"
   ]
  },
  {
   "cell_type": "code",
   "execution_count": 39,
   "id": "indie-fountain",
   "metadata": {},
   "outputs": [],
   "source": [
    "x_train, x_test, y_train, y_test = train_test_split(x, y, test_size=0.2, random_state=40)"
   ]
  },
  {
   "cell_type": "markdown",
   "id": "smoking-intro",
   "metadata": {},
   "source": [
    "Create the model and train it with `x_train` and `y_train`"
   ]
  },
  {
   "cell_type": "code",
   "execution_count": 40,
   "id": "cutting-coaching",
   "metadata": {},
   "outputs": [
    {
     "data": {
      "text/plain": [
       "LinearRegression()"
      ]
     },
     "execution_count": 40,
     "metadata": {},
     "output_type": "execute_result"
    }
   ],
   "source": [
    "model = LinearRegression()\n",
    "model.fit(x_train, y_train)"
   ]
  },
  {
   "cell_type": "markdown",
   "id": "involved-azerbaijan",
   "metadata": {},
   "source": [
    "Now we will be able to predict other values using `model.predict(x)` function"
   ]
  },
  {
   "cell_type": "code",
   "execution_count": 44,
   "id": "proof-asian",
   "metadata": {},
   "outputs": [
    {
     "data": {
      "text/plain": [
       "array([211730.93700633, 253151.39107362, 112130.0957762 , ...,\n",
       "       236468.6303331 , 165853.34327934, 129166.83282363])"
      ]
     },
     "execution_count": 44,
     "metadata": {},
     "output_type": "execute_result"
    }
   ],
   "source": [
    "y_pred = model.predict(x_test)\n",
    "y_pred"
   ]
  },
  {
   "cell_type": "markdown",
   "id": "mexican-playlist",
   "metadata": {},
   "source": [
    "Let's get the accuracy of this model using `score` function"
   ]
  },
  {
   "cell_type": "code",
   "execution_count": 45,
   "id": "floppy-volume",
   "metadata": {},
   "outputs": [
    {
     "data": {
      "text/plain": [
       "0.6417937275429"
      ]
     },
     "execution_count": 45,
     "metadata": {},
     "output_type": "execute_result"
    }
   ],
   "source": [
    "model.score(x_test, y_test)"
   ]
  },
  {
   "cell_type": "markdown",
   "id": "cultural-underwear",
   "metadata": {},
   "source": [
    "Notice the score is pretty similar to the r squared value from the `OLS` method "
   ]
  }
 ],
 "metadata": {
  "kernelspec": {
   "display_name": "Python 3",
   "language": "python",
   "name": "python3"
  },
  "language_info": {
   "codemirror_mode": {
    "name": "ipython",
    "version": 3
   },
   "file_extension": ".py",
   "mimetype": "text/x-python",
   "name": "python",
   "nbconvert_exporter": "python",
   "pygments_lexer": "ipython3",
   "version": "3.8.5"
  }
 },
 "nbformat": 4,
 "nbformat_minor": 5
}
